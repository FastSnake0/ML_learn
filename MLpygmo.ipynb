{
 "cells": [
  {
   "cell_type": "code",
   "execution_count": 2,
   "id": "99ca3476-4199-43b1-a99c-05871929d110",
   "metadata": {},
   "outputs": [],
   "source": [
    "import pygmo as pg\n",
    "import numpy as np"
   ]
  },
  {
   "cell_type": "code",
   "execution_count": 11,
   "id": "2190781c-5243-4bfd-ae86-687748d4a90a",
   "metadata": {},
   "outputs": [],
   "source": [
    "class test_rust:\n",
    "    def __init__(self, dim):\n",
    "        self.dim = dim\n",
    "    def fitness(self, x):\n",
    "        A = 10\n",
    "        return [A * x.size + np.sum(x ** 2 - A * np.cos(2*np.pi*x))]\n",
    "    def get_bounds(self):\n",
    "        return ([-5.12] * self.dim, [5.12] * self.dim)\n",
    "\n",
    "    def get_name(self):\n",
    "        return \"Функция Растригина\"\n",
    "\n",
    "    def get_extra_info(self):\n",
    "        return \"\\tРазмерность: \" + str(self.dim)"
   ]
  },
  {
   "cell_type": "code",
   "execution_count": 32,
   "id": "8ced172d-90e3-43f2-a319-ca4504396dc1",
   "metadata": {},
   "outputs": [],
   "source": [
    "class test_StyblinskiTang:\n",
    "    def __init__(self, dim):\n",
    "        self.dim = dim\n",
    "    def fitness(self, x):\n",
    "        return [np.sum(x ** 4 - 16 * x ** 2 + 5 * x)/2]\n",
    "    def get_bounds(self):\n",
    "        return ([-5] * self.dim, [5] * self.dim)\n",
    "\n",
    "    def get_name(self):\n",
    "        return \"Функция Стыбинского-Танга\"\n",
    "\n",
    "    def get_extra_info(self):\n",
    "        return \"\\tРазмерность: \" + str(self.dim)"
   ]
  },
  {
   "cell_type": "code",
   "execution_count": 4,
   "id": "967231dd-8af1-4415-a07b-fa36345fc19b",
   "metadata": {},
   "outputs": [],
   "source": [
    "def test_StyblinskiTang (x: np.ndarray): # Стыбинского-Танга\n",
    "    A = 10\n",
    "    return np.sum(x ** 4 - 16 * x ** 2 + 5 * x)/2"
   ]
  },
  {
   "cell_type": "code",
   "execution_count": 33,
   "id": "f3d29ab7-9e6a-40de-a489-5662ce742a62",
   "metadata": {},
   "outputs": [
    {
     "name": "stdout",
     "output_type": "stream",
     "text": [
      "Problem name: Функция Растригина\n",
      "\tC++ class name: class pybind11::object\n",
      "\n",
      "\tGlobal dimension:\t\t\t2\n",
      "\tInteger dimension:\t\t\t0\n",
      "\tFitness dimension:\t\t\t1\n",
      "\tNumber of objectives:\t\t\t1\n",
      "\tEquality constraints dimension:\t\t0\n",
      "\tInequality constraints dimension:\t0\n",
      "\tLower bounds: [-5.12, -5.12]\n",
      "\tUpper bounds: [5.12, 5.12]\n",
      "\tHas batch fitness evaluation: false\n",
      "\n",
      "\tHas gradient: false\n",
      "\tUser implemented gradient sparsity: false\n",
      "\tHas hessians: false\n",
      "\tUser implemented hessians sparsity: false\n",
      "\n",
      "\tFitness evaluations: 0\n",
      "\n",
      "\tThread safety: none\n",
      "\n",
      "Extra info:\n",
      "\tРазмерность: 2\n"
     ]
    }
   ],
   "source": [
    "problem_rust = pg.problem(test_rust(dim=2))\n",
    "print(problem_rust)"
   ]
  },
  {
   "cell_type": "code",
   "execution_count": 34,
   "id": "d5ba0d48-cdd8-4d0b-b114-7b0843315e1e",
   "metadata": {},
   "outputs": [
    {
     "name": "stdout",
     "output_type": "stream",
     "text": [
      "Problem name: Функция Стыбинского-Танга\n",
      "\tC++ class name: class pybind11::object\n",
      "\n",
      "\tGlobal dimension:\t\t\t2\n",
      "\tInteger dimension:\t\t\t0\n",
      "\tFitness dimension:\t\t\t1\n",
      "\tNumber of objectives:\t\t\t1\n",
      "\tEquality constraints dimension:\t\t0\n",
      "\tInequality constraints dimension:\t0\n",
      "\tLower bounds: [-5, -5]\n",
      "\tUpper bounds: [5, 5]\n",
      "\tHas batch fitness evaluation: false\n",
      "\n",
      "\tHas gradient: false\n",
      "\tUser implemented gradient sparsity: false\n",
      "\tHas hessians: false\n",
      "\tUser implemented hessians sparsity: false\n",
      "\n",
      "\tFitness evaluations: 0\n",
      "\n",
      "\tThread safety: none\n",
      "\n",
      "Extra info:\n",
      "\tРазмерность: 2\n"
     ]
    }
   ],
   "source": [
    "problem_ST = pg.problem(test_StyblinskiTang(dim=2))\n",
    "print(problem_ST)"
   ]
  },
  {
   "cell_type": "code",
   "execution_count": null,
   "id": "ea6a3056-247f-4178-a6cf-49add39085fd",
   "metadata": {},
   "outputs": [],
   "source": [
    "alg_list = [pg.de(gen=100), pg.pso(gen=100), pg.sade(gen=100)]"
   ]
  },
  {
   "cell_type": "code",
   "execution_count": 85,
   "id": "1328cbb1-1587-4b5e-8671-edf2dde58aa1",
   "metadata": {},
   "outputs": [
    {
     "name": "stdout",
     "output_type": "stream",
     "text": [
      "0.04949665095530565\n"
     ]
    }
   ],
   "source": [
    "algorithm_rust = pg.algorithm(pg.de(gen=100))\n",
    "population_rust = pg.population(problem_rust, size=10)\n",
    "population_rust = algorithm.evolve(population_rust)\n",
    "bsr = population_rust.champion_x\n",
    "bvr = population_rust.champion_f\n",
    "\n",
    "T = 10\n",
    "E = 0.0\n",
    "for _ in range(T):\n",
    "    algorithm_rust = pg.algorithm(pg.de(gen=100))\n",
    "    population_rust = pg.population(problem_rust, size=20)\n",
    "    population_rust = algorithm.evolve(population_rust)\n",
    "    bsr = population_rust.champion_x\n",
    "    bvr = population_rust.champion_f\n",
    "    E += np.sum((bsr - np.zeros_like(bsr)) ** 2) / bsr.size\n",
    "E /=T\n",
    "print(E)    "
   ]
  },
  {
   "cell_type": "code",
   "execution_count": 75,
   "id": "e4a8b080-5293-4896-8858-dd1468c85dfa",
   "metadata": {},
   "outputs": [
    {
     "name": "stdout",
     "output_type": "stream",
     "text": [
      "f([-2.90355986 -2.90358458])=[-78.33233135]\n"
     ]
    }
   ],
   "source": [
    "algorithm_ST = pg.algorithm(pg.pso(gen=100))\n",
    "population_ST = pg.population(problem_ST, size=10)\n",
    "population_ST = algorithm.evolve(population_ST)\n",
    "bsst = population_ST.champion_x\n",
    "bvst = population_ST.champion_f\n",
    "print(f'f({bsst})={bvst}') "
   ]
  },
  {
   "cell_type": "code",
   "execution_count": null,
   "id": "5147984d-449f-4f75-bd30-8306c6da37c9",
   "metadata": {},
   "outputs": [],
   "source": []
  }
 ],
 "metadata": {
  "kernelspec": {
   "display_name": "Python 3 (ipykernel)",
   "language": "python",
   "name": "python3"
  },
  "language_info": {
   "codemirror_mode": {
    "name": "ipython",
    "version": 3
   },
   "file_extension": ".py",
   "mimetype": "text/x-python",
   "name": "python",
   "nbconvert_exporter": "python",
   "pygments_lexer": "ipython3",
   "version": "3.9.18"
  }
 },
 "nbformat": 4,
 "nbformat_minor": 5
}

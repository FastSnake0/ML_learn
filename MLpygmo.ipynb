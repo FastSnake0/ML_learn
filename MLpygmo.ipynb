{
 "cells": [
  {
   "cell_type": "code",
   "execution_count": 1,
   "id": "99ca3476-4199-43b1-a99c-05871929d110",
   "metadata": {},
   "outputs": [],
   "source": [
    "\n",
    "import numpy as np\n",
    "import pygmo as pg"
   ]
  },
  {
   "cell_type": "code",
   "execution_count": 2,
   "id": "2190781c-5243-4bfd-ae86-687748d4a90a",
   "metadata": {},
   "outputs": [],
   "source": [
    "class test_rust:\n",
    "    def __init__(self, dim):\n",
    "        self.dim = dim\n",
    "    def fitness(self, x):\n",
    "        A = 10\n",
    "        return [A * x.size + np.sum(x ** 2 - A * np.cos(2*np.pi*x))]\n",
    "    def get_bounds(self):\n",
    "        return ([-5.12] * self.dim, [5.12] * self.dim)\n",
    "\n",
    "    def get_name(self):\n",
    "        return \"Функция Растригина\"\n",
    "\n",
    "    def get_extra_info(self):\n",
    "        return \"\\tРазмерность: \" + str(self.dim)"
   ]
  },
  {
   "cell_type": "code",
   "execution_count": 3,
   "id": "8ced172d-90e3-43f2-a319-ca4504396dc1",
   "metadata": {},
   "outputs": [],
   "source": [
    "class test_StyblinskiTang:\n",
    "    def __init__(self, dim):\n",
    "        self.dim = dim\n",
    "    def fitness(self, x):\n",
    "        return [np.sum(x ** 4 - 16 * x ** 2 + 5 * x)/2]\n",
    "    def get_bounds(self):\n",
    "        return ([-5] * self.dim, [5] * self.dim)\n",
    "\n",
    "    def get_name(self):\n",
    "        return \"Функция Стыбинского-Танга\"\n",
    "\n",
    "    def get_extra_info(self):\n",
    "        return \"\\tРазмерность: \" + str(self.dim)"
   ]
  },
  {
   "cell_type": "code",
   "execution_count": 4,
   "id": "f3d29ab7-9e6a-40de-a489-5662ce742a62",
   "metadata": {},
   "outputs": [
    {
     "name": "stdout",
     "output_type": "stream",
     "text": [
      "Problem name: Функция Растригина\n",
      "\tC++ class name: class pybind11::object\n",
      "\n",
      "\tGlobal dimension:\t\t\t2\n",
      "\tInteger dimension:\t\t\t0\n",
      "\tFitness dimension:\t\t\t1\n",
      "\tNumber of objectives:\t\t\t1\n",
      "\tEquality constraints dimension:\t\t0\n",
      "\tInequality constraints dimension:\t0\n",
      "\tLower bounds: [-5.12, -5.12]\n",
      "\tUpper bounds: [5.12, 5.12]\n",
      "\tHas batch fitness evaluation: false\n",
      "\n",
      "\tHas gradient: false\n",
      "\tUser implemented gradient sparsity: false\n",
      "\tHas hessians: false\n",
      "\tUser implemented hessians sparsity: false\n",
      "\n",
      "\tFitness evaluations: 0\n",
      "\n",
      "\tThread safety: none\n",
      "\n",
      "Extra info:\n",
      "\tРазмерность: 2\n"
     ]
    }
   ],
   "source": [
    "problem_rust = pg.problem(test_rust(dim=2))\n",
    "print(problem_rust)"
   ]
  },
  {
   "cell_type": "code",
   "execution_count": 5,
   "id": "d5ba0d48-cdd8-4d0b-b114-7b0843315e1e",
   "metadata": {},
   "outputs": [
    {
     "name": "stdout",
     "output_type": "stream",
     "text": [
      "Problem name: Функция Стыбинского-Танга\n",
      "\tC++ class name: class pybind11::object\n",
      "\n",
      "\tGlobal dimension:\t\t\t2\n",
      "\tInteger dimension:\t\t\t0\n",
      "\tFitness dimension:\t\t\t1\n",
      "\tNumber of objectives:\t\t\t1\n",
      "\tEquality constraints dimension:\t\t0\n",
      "\tInequality constraints dimension:\t0\n",
      "\tLower bounds: [-5, -5]\n",
      "\tUpper bounds: [5, 5]\n",
      "\tHas batch fitness evaluation: false\n",
      "\n",
      "\tHas gradient: false\n",
      "\tUser implemented gradient sparsity: false\n",
      "\tHas hessians: false\n",
      "\tUser implemented hessians sparsity: false\n",
      "\n",
      "\tFitness evaluations: 0\n",
      "\n",
      "\tThread safety: none\n",
      "\n",
      "Extra info:\n",
      "\tРазмерность: 2\n"
     ]
    }
   ],
   "source": [
    "problem_ST = pg.problem(test_StyblinskiTang(dim=2))\n",
    "print(problem_ST)"
   ]
  },
  {
   "cell_type": "code",
   "execution_count": 6,
   "id": "ea6a3056-247f-4178-a6cf-49add39085fd",
   "metadata": {},
   "outputs": [
    {
     "name": "stdout",
     "output_type": "stream",
     "text": [
      "[<pygmo.core.de object at 0x0000023CB469E0F0>, <pygmo.core.pso object at 0x0000023CB469F4B0>, <pygmo.core.sade object at 0x0000023CB46C62F0>]\n"
     ]
    }
   ],
   "source": [
    "alg_list = [pg.de(gen=100), pg.pso(gen=100), pg.sade(gen=100)]\n",
    "problems = [problem_rust, problem_ST]\n",
    "print(alg_list)"
   ]
  },
  {
   "cell_type": "markdown",
   "id": "0bde809e",
   "metadata": {},
   "source": [
    "# Эволюция\n",
    "## Differential Evolution: \n",
    "Основан на идеях эволюционных стратегий. Использует популяцию векторов параметров и проводит операции мутации, кроссовера и селекции для поиска оптимальных параметров. Мутации производятся путем комбинирования различных индивидов в популяции.\n",
    "\n",
    "## Particle Swarm Optimization: \n",
    "Моделирует поведение роя частиц в пространстве параметров. Каждая частица движется по пространству, обновляя свое положение в зависимости от своей лучшей позиции и лучшей позиции в рое. Таким образом, алгоритм старается найти оптимальное положение в пространстве параметров.\n",
    "\n",
    "## Self-Adaptive Differential Evolution:\n",
    "Расширение Differential Evolution с механизмом автоматической настройки параметров мутации. Позволяет алгоритму самостоятельно адаптироваться к характеру задачи оптимизации в процессе выполнения."
   ]
  },
  {
   "cell_type": "code",
   "execution_count": 7,
   "id": "1328cbb1-1587-4b5e-8671-edf2dde58aa1",
   "metadata": {},
   "outputs": [],
   "source": [
    "info = []\n",
    "for alg in alg_list:\n",
    "    algorithm_rust = pg.algorithm(alg)\n",
    "    population_rust = pg.population(problem_rust, size=15)\n",
    "    bsr = population_rust.champion_x\n",
    "    bvr = population_rust.champion_f\n",
    "\n",
    "    bsr_best = bsr\n",
    "    bvr_best = bvr\n",
    "\n",
    "    bsr_worst = bsr\n",
    "    bvr_worst = bvr\n",
    "\n",
    "# population_rust = algorithm.evolve(population_rust)\n",
    "\n",
    "    mse_max = 0\n",
    "    mse_min = np.sum((bsr - np.zeros_like(bsr)) ** 2) / bsr.size\n",
    "    T = 25\n",
    "    mse_av = 0.0\n",
    "    for _ in range(T):\n",
    "        population_rust = algorithm_rust.evolve(population_rust)\n",
    "        bsr = population_rust.champion_x\n",
    "        bvr = population_rust.champion_f\n",
    "        mse = np.sum((bsr - np.zeros_like(bsr)) ** 2) / bsr.size\n",
    "        if (mse < mse_min):\n",
    "            mse_min = mse\n",
    "            bsr_best = bsr\n",
    "            bvr_best = bvr\n",
    "        elif (mse > mse_max):\n",
    "            mse_max = mse\n",
    "            bsr_worst = bsr\n",
    "            bvr_worst = bvr\n",
    "\n",
    "\n",
    "\n",
    "        mse_av += mse\n",
    "\n",
    "    mse_av /=T\n",
    "    info.append([mse_av, mse_min, mse_max, bvr_best[0], bvr_worst[0]])\n",
    "  "
   ]
  },
  {
   "cell_type": "code",
   "execution_count": 8,
   "id": "f2a89ccb",
   "metadata": {},
   "outputs": [],
   "source": [
    "for alg in alg_list:\n",
    "    algorithm_rust = pg.algorithm(alg)\n",
    "    population_rust = pg.population(problem_ST, size=15)\n",
    "    bsr = population_rust.champion_x\n",
    "    bvr = population_rust.champion_f\n",
    "\n",
    "    bsr_best = bsr\n",
    "    bvr_best = bvr\n",
    "\n",
    "    bsr_worst = bsr\n",
    "    bvr_worst = bvr\n",
    "\n",
    "# population_rust = algorithm.evolve(population_rust)\n",
    "\n",
    "    mse_max = 0\n",
    "    mse_min = np.sum((bsr - np.zeros_like(bsr)) ** 2) / bsr.size\n",
    "    T = 25\n",
    "    mse_av = 0.0\n",
    "    for _ in range(T):\n",
    "        population_rust = algorithm_rust.evolve(population_rust)\n",
    "        bsr = population_rust.champion_x\n",
    "        bvr = population_rust.champion_f\n",
    "        mse = np.sum((bsr - (-2.903534 * np.ones_like(bsr))) ** 2) / bsr.size\n",
    "        if (mse < mse_min):\n",
    "            mse_min = mse\n",
    "            bsr_best = bsr\n",
    "            bvr_best = bvr\n",
    "        elif (mse > mse_max):\n",
    "            mse_max = mse\n",
    "            bsr_worst = bsr\n",
    "            bvr_worst = bvr\n",
    "\n",
    "\n",
    "\n",
    "        mse_av += mse\n",
    "\n",
    "    mse_av /=T\n",
    "    info.append([mse_av, mse_min, mse_max, bvr_best[0], bvr_worst[0]])"
   ]
  },
  {
   "cell_type": "code",
   "execution_count": 9,
   "id": "fe760547",
   "metadata": {},
   "outputs": [
    {
     "name": "stdout",
     "output_type": "stream",
     "text": [
      "6.6391172812661905e-12 | 5.038341609657277e-15 | 3.2998316680032807e-11 | 2.000177801164682e-12 | 1.3093210071701833e-08\n",
      "1.215781931600595e-10 | 1.2243081520664187e-13 | 1.899026155392632e-12 | 4.857980684391805e-11 | 7.535021495641558e-10\n",
      "2.4318615611162555e-12 | 4.626081626992785e-16 | 1.4856954249121653e-11 | 1.8118839761882555e-13 | 5.895003596378956e-09\n",
      "6.666890140833456e-12 | 2.9163989753206286e-14 | 1.3700597805057212e-11 | -78.33233140754147 | -78.33233140707118\n",
      "2.8919085575611647e-11 | 2.8085769249462795e-15 | 2.4691815207638686e-12 | -78.33233140754268 | -78.33233140746012\n",
      "4.1100593021451707e-11 | 1.0856331652890061e-14 | 2.001808196911347e-10 | -78.3323314075424 | -78.33233140062717\n"
     ]
    }
   ],
   "source": [
    "for i in info:\n",
    "    print(f'{i[0]} | {i[1]} | {i[2]} | {i[3]} | {i[4]}')"
   ]
  },
  {
   "cell_type": "code",
   "execution_count": null,
   "id": "5147984d-449f-4f75-bd30-8306c6da37c9",
   "metadata": {},
   "outputs": [],
   "source": []
  }
 ],
 "metadata": {
  "kernelspec": {
   "display_name": "Python 3 (ipykernel)",
   "language": "python",
   "name": "python3"
  },
  "language_info": {
   "codemirror_mode": {
    "name": "ipython",
    "version": 3
   },
   "file_extension": ".py",
   "mimetype": "text/x-python",
   "name": "python",
   "nbconvert_exporter": "python",
   "pygments_lexer": "ipython3",
   "version": "3.11.6"
  }
 },
 "nbformat": 4,
 "nbformat_minor": 5
}

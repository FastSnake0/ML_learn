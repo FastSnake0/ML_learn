{
 "cells": [
  {
   "cell_type": "code",
   "execution_count": 1,
   "id": "2ad0f91f",
   "metadata": {},
   "outputs": [],
   "source": [
    "import numpy as np"
   ]
  },
  {
   "cell_type": "code",
   "execution_count": 44,
   "id": "4693b96e",
   "metadata": {},
   "outputs": [],
   "source": [
    "a = 5"
   ]
  },
  {
   "cell_type": "code",
   "execution_count": 45,
   "id": "fc80fa3e",
   "metadata": {},
   "outputs": [],
   "source": [
    "def test1 (x: np.ndarray):\n",
    "    return np.sum((x-a)**2)"
   ]
  },
  {
   "cell_type": "code",
   "execution_count": 46,
   "id": "ff18691b",
   "metadata": {},
   "outputs": [],
   "source": [
    "def test1_grad (x: np.ndarray):\n",
    "    return (x-a)*2"
   ]
  },
  {
   "cell_type": "code",
   "execution_count": 47,
   "id": "075b400b",
   "metadata": {},
   "outputs": [
    {
     "data": {
      "text/plain": [
       "array([16,  9,  1,  9])"
      ]
     },
     "execution_count": 47,
     "metadata": {},
     "output_type": "execute_result"
    }
   ],
   "source": [
    "X = np.array([1, 2, 4, 8])\n",
    "(X-a)**2\n"
   ]
  },
  {
   "cell_type": "code",
   "execution_count": 81,
   "id": "9a4f1fb7",
   "metadata": {},
   "outputs": [],
   "source": [
    "def my_GD(\n",
    "         x0: np.ndarray,\n",
    "         T: int = 100,\n",
    "         lr: float = 1e-3,\n",
    "         use_grad: bool = True,\n",
    "         use_crit: bool = False,\n",
    "         crit: float = 1e-7,\n",
    "         **kwargs) -> np.ndarray:\n",
    "    if use_grad:\n",
    "        df = kwargs['df']\n",
    "    else:\n",
    "        raise NotImplementedError()\n",
    "    x = x0\n",
    "    if use_crit:\n",
    "        while (np.sum(np.absolute(df(x))) > crit):\n",
    "            x -= lr*df(x)\n",
    "    else:\n",
    "        for _ in range(T):\n",
    "            x -= lr*df(x)\n",
    "    return x"
   ]
  },
  {
   "cell_type": "code",
   "execution_count": 82,
   "id": "98559e4d",
   "metadata": {},
   "outputs": [],
   "source": [
    "xt = np.array([1., -2., 3.])"
   ]
  },
  {
   "cell_type": "code",
   "execution_count": 83,
   "id": "5f97ed86",
   "metadata": {},
   "outputs": [
    {
     "data": {
      "text/plain": [
       "array([4.99999998, 4.99999997, 4.99999999])"
      ]
     },
     "execution_count": 83,
     "metadata": {},
     "output_type": "execute_result"
    }
   ],
   "source": [
    "my_GD(x0 = xt, use_crit = True, df = test1_grad)"
   ]
  },
  {
   "cell_type": "code",
   "execution_count": 71,
   "id": "137df747",
   "metadata": {},
   "outputs": [
    {
     "data": {
      "text/plain": [
       "12.37954695458145"
      ]
     },
     "execution_count": 71,
     "metadata": {},
     "output_type": "execute_result"
    }
   ],
   "source": [
    "np.sum(np.absolute(xt))"
   ]
  },
  {
   "cell_type": "code",
   "execution_count": 60,
   "id": "5cae4dcd",
   "metadata": {},
   "outputs": [
    {
     "data": {
      "text/plain": [
       "array([4.99999999, 4.99999999, 5.        ])"
      ]
     },
     "execution_count": 60,
     "metadata": {},
     "output_type": "execute_result"
    }
   ],
   "source": [
    "xt"
   ]
  },
  {
   "cell_type": "code",
   "execution_count": null,
   "id": "0ae230a2",
   "metadata": {},
   "outputs": [],
   "source": []
  }
 ],
 "metadata": {
  "kernelspec": {
   "display_name": "Python 3 (ipykernel)",
   "language": "python",
   "name": "python3"
  },
  "language_info": {
   "codemirror_mode": {
    "name": "ipython",
    "version": 3
   },
   "file_extension": ".py",
   "mimetype": "text/x-python",
   "name": "python",
   "nbconvert_exporter": "python",
   "pygments_lexer": "ipython3",
   "version": "3.9.18"
  }
 },
 "nbformat": 4,
 "nbformat_minor": 5
}

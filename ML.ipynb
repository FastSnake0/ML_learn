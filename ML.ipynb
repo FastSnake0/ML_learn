{
 "cells": [
  {
   "cell_type": "code",
   "execution_count": 1,
   "id": "2ad0f91f",
   "metadata": {},
   "outputs": [],
   "source": [
    "import numpy as np\n",
    "import matplotlib.pyplot as plt\n",
    "from mpl_toolkits.mplot3d import Axes3D\n",
    "from ipywidgets import interact"
   ]
  },
  {
   "cell_type": "code",
   "execution_count": 2,
   "id": "4693b96e",
   "metadata": {},
   "outputs": [],
   "source": [
    "alfa = 5"
   ]
  },
  {
   "cell_type": "code",
   "execution_count": 3,
   "id": "fc80fa3e",
   "metadata": {},
   "outputs": [],
   "source": [
    "def test_ez (x: np.ndarray) -> np.ndarray:\n",
    "    return np.sum((x-alfa)**2)"
   ]
  },
  {
   "cell_type": "code",
   "execution_count": 4,
   "id": "ff18691b",
   "metadata": {},
   "outputs": [],
   "source": [
    "def test_ez_grad (x: np.ndarray) -> np.ndarray:\n",
    "    return (x-alfa)*2"
   ]
  },
  {
   "cell_type": "code",
   "execution_count": 5,
   "id": "3ef40ffd",
   "metadata": {},
   "outputs": [],
   "source": [
    "def test_rust (x: np.ndarray): # Функция Растригина\n",
    "    A = 10\n",
    "    return A * x.size + np.sum(x ** 2 - A * np.cos(2*np.pi*x))"
   ]
  },
  {
   "cell_type": "code",
   "execution_count": 6,
   "id": "feb73dad",
   "metadata": {},
   "outputs": [],
   "source": [
    "def test_styb (x: np.ndarray): # Функция Стыбинского-Танга\n",
    "    return np.sum(x ** 4 - 16 * x ** 2 + 5 * x)/2"
   ]
  },
  {
   "cell_type": "code",
   "execution_count": 16,
   "id": "93456471",
   "metadata": {},
   "outputs": [
    {
     "data": {
      "application/vnd.jupyter.widget-view+json": {
       "model_id": "4ab0c84386c34b52a6bc84395f296483",
       "version_major": 2,
       "version_minor": 0
      },
      "text/plain": [
       "interactive(children=(IntSlider(value=0, description='angle_x', max=90, min=-90, step=5), IntSlider(value=180,…"
      ]
     },
     "metadata": {},
     "output_type": "display_data"
    },
    {
     "data": {
      "text/plain": [
       "<function __main__.<lambda>(angle_x, angle_y, alpha)>"
      ]
     },
     "execution_count": 16,
     "metadata": {},
     "output_type": "execute_result"
    }
   ],
   "source": [
    "Acc = 500\n",
    "x1 = np.linspace(-5, 5, Acc)\n",
    "x2 = np.linspace(-5, 5, Acc)\n",
    "Z = np.zeros((Acc, Acc))\n",
    "Z2 = np.zeros((Acc, Acc))\n",
    "for i in range (Acc):\n",
    "    for j in range (Acc):\n",
    "        Z[i, j] = test_rust(np.array([x1[i], x2[j]]))\n",
    "        Z2[i, j] = test_styb(np.array([x1[i], x2[j]]))\n",
    "        \n",
    "def plot_3d_graph(angle_x, angle_y, alpha, x1, x2, Z):\n",
    "    fig = plt.figure(figsize=(12, 6))  # Увеличьте ширину фигуры, чтобы разместить два графика рядом\n",
    "    ax1 = fig.add_subplot(121, projection='3d')  # Создайте первую 3D-сетку\n",
    "    ax2 = fig.add_subplot(122, projection='3d')  # Создайте вторую 3D-сетку\n",
    "\n",
    "    X1, X2 = np.meshgrid(x1, x2)\n",
    "    \n",
    "    ax1.plot_surface(X1, X2, Z, alpha=alpha, cmap='viridis')\n",
    "    ax2.plot_surface(X1, X2, Z2, alpha=alpha, cmap='viridis')\n",
    "    \n",
    "    ax1.view_init(elev=angle_x, azim=angle_y)\n",
    "    ax2.view_init(elev=angle_x, azim=angle_y)\n",
    "\n",
    "    plt.show()\n",
    "graph = lambda angle_x, angle_y, alpha: plot_3d_graph(angle_x, angle_y, alpha, x1 = x1, x2 = x2, Z = Z)\n",
    "# Создайте интерактивный виджет для прокрутки и вращения графика\n",
    "interact(graph, angle_x=(-90, 90, 5), angle_y=(0, 360, 5), alpha=(0, 1, 0.1)) # Отрисовка Функции Растригина"
   ]
  },
  {
   "cell_type": "code",
   "execution_count": null,
   "id": "fc5a62d8",
   "metadata": {},
   "outputs": [],
   "source": []
  },
  {
   "cell_type": "code",
   "execution_count": 17,
   "id": "dcff7b25",
   "metadata": {},
   "outputs": [],
   "source": [
    "def num_diff(\n",
    "    x: np.ndarray,\n",
    "    use_function: bool = True, \n",
    "    h: float = 1e-7,\n",
    "    **kwargs) -> np.ndarray:\n",
    "    if use_function:\n",
    "        f = kwargs['f']\n",
    "    else:\n",
    "        NotImplementedError()\n",
    "    grad = np.zeros_like(x)\n",
    "    \n",
    "    for i in range(len(x)):\n",
    "        original_value = x[i]\n",
    "        \n",
    "        # Вычисляем градиент по i-ой переменной с шагом h\n",
    "        x[i] = original_value + h\n",
    "        fx_plus_h = f(x)\n",
    "        \n",
    "        x[i] = original_value - h\n",
    "        fx_minus_h = f(x)\n",
    "        \n",
    "        grad[i] = (fx_plus_h - fx_minus_h) / (2 * h)\n",
    "        \n",
    "        # Восстанавливаем исходное значение переменной x[i]\n",
    "        x[i] = original_value\n",
    "    \n",
    "    return grad\n",
    "    "
   ]
  },
  {
   "cell_type": "code",
   "execution_count": 18,
   "id": "9a4f1fb7",
   "metadata": {},
   "outputs": [],
   "source": [
    "def my_GD(\n",
    "         x0: np.ndarray,\n",
    "         T: int = 100,\n",
    "         lr: float = 1e-3,\n",
    "         grad_type: str = 'num_diff',\n",
    "         use_crit: bool = False,\n",
    "         crit: float = 1e-7,\n",
    "         **kwargs) -> np.ndarray:    \n",
    "    if grad_type != 'input' or grad_type != 'num_diff' or grad_type != 'sym_diff':\n",
    "        grad_type = 'num_diff'\n",
    "    if grad_type == 'input':\n",
    "        df = kwargs['df']\n",
    "    elif grad_type == 'num_diff':\n",
    "        f = kwargs['f']\n",
    "        df = lambda x: num_diff(x, f = f)\n",
    "        \n",
    "    x = x0\n",
    "    if use_crit:\n",
    "        while (np.sum(np.absolute(df(x))) > crit):\n",
    "            x -= lr*df(x)\n",
    "    else:\n",
    "        for _ in range(T):\n",
    "            x -= lr*df(x)\n",
    "    return x"
   ]
  },
  {
   "cell_type": "code",
   "execution_count": 28,
   "id": "98559e4d",
   "metadata": {},
   "outputs": [
    {
     "data": {
      "text/plain": [
       "array([4.99999997, 4.99999998])"
      ]
     },
     "execution_count": 28,
     "metadata": {},
     "output_type": "execute_result"
    }
   ],
   "source": [
    "xt = np.random.normal(0, 1, 2)\n",
    "my_GD(x0 = xt, use_crit = True, f = test_ez)"
   ]
  },
  {
   "cell_type": "code",
   "execution_count": 37,
   "id": "5f97ed86",
   "metadata": {},
   "outputs": [
    {
     "data": {
      "text/plain": [
       "array([-9.94958637e-01, -1.17980625e-11])"
      ]
     },
     "execution_count": 37,
     "metadata": {},
     "output_type": "execute_result"
    }
   ],
   "source": [
    "xt = np.random.normal(0, 1, 2)\n",
    "my_GD(x0 = xt, use_crit = True, f = test_rust)"
   ]
  },
  {
   "cell_type": "code",
   "execution_count": 38,
   "id": "3bd97238",
   "metadata": {},
   "outputs": [
    {
     "data": {
      "text/plain": [
       "array([-2.90353402, -2.90353402])"
      ]
     },
     "execution_count": 38,
     "metadata": {},
     "output_type": "execute_result"
    }
   ],
   "source": [
    "xt =np.random.normal(0, 1, 2)\n",
    "my_GD(x0 = xt, use_crit = True, f = test_styb)"
   ]
  },
  {
   "cell_type": "code",
   "execution_count": 39,
   "id": "137df747",
   "metadata": {},
   "outputs": [
    {
     "data": {
      "text/plain": [
       "-78.33233140754282"
      ]
     },
     "execution_count": 39,
     "metadata": {},
     "output_type": "execute_result"
    }
   ],
   "source": [
    "test_styb(xt)"
   ]
  },
  {
   "cell_type": "code",
   "execution_count": 17,
   "id": "5cae4dcd",
   "metadata": {},
   "outputs": [
    {
     "data": {
      "text/plain": [
       "array([ 1., -2.,  3.])"
      ]
     },
     "execution_count": 17,
     "metadata": {},
     "output_type": "execute_result"
    }
   ],
   "source": [
    "xt"
   ]
  },
  {
   "cell_type": "code",
   "execution_count": null,
   "id": "0ae230a2",
   "metadata": {},
   "outputs": [],
   "source": []
  }
 ],
 "metadata": {
  "kernelspec": {
   "display_name": "Python 3 (ipykernel)",
   "language": "python",
   "name": "python3"
  },
  "language_info": {
   "codemirror_mode": {
    "name": "ipython",
    "version": 3
   },
   "file_extension": ".py",
   "mimetype": "text/x-python",
   "name": "python",
   "nbconvert_exporter": "python",
   "pygments_lexer": "ipython3",
   "version": "3.9.18"
  }
 },
 "nbformat": 4,
 "nbformat_minor": 5
}

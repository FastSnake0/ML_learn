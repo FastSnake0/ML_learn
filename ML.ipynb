{
 "cells": [
  {
   "cell_type": "code",
   "execution_count": 1,
   "id": "2ad0f91f",
   "metadata": {},
   "outputs": [],
   "source": [
    "import numpy as np\n",
    "import matplotlib.pyplot as plt\n",
    "from mpl_toolkits.mplot3d import Axes3D\n",
    "from ipywidgets import interact"
   ]
  },
  {
   "cell_type": "code",
   "execution_count": 2,
   "id": "4693b96e",
   "metadata": {},
   "outputs": [],
   "source": [
    "alfa = 5"
   ]
  },
  {
   "cell_type": "code",
   "execution_count": 3,
   "id": "fc80fa3e",
   "metadata": {},
   "outputs": [],
   "source": [
    "def test_ez (x: np.ndarray) -> np.ndarray:\n",
    "    return np.sum((x-alfa)**2)"
   ]
  },
  {
   "cell_type": "code",
   "execution_count": 4,
   "id": "ff18691b",
   "metadata": {},
   "outputs": [],
   "source": [
    "def test_ez_grad (x: np.ndarray) -> np.ndarray:\n",
    "    return (x-alfa)*2"
   ]
  },
  {
   "cell_type": "code",
   "execution_count": 5,
   "id": "3ef40ffd",
   "metadata": {},
   "outputs": [],
   "source": [
    "def test_rust (x: np.ndarray): # Функция Растригина\n",
    "    A = 10\n",
    "    return A * x.size + np.sum(x ** 2 - A * np.cos(2*np.pi*x))"
   ]
  },
  {
   "cell_type": "code",
   "execution_count": 6,
   "id": "feb73dad",
   "metadata": {},
   "outputs": [],
   "source": [
    "def test_styb (x: np.ndarray): # Функция Стыбинского-Танга\n",
    "    return np.sum(x ** 4 - 16 * x ** 2 + 5 * x)/2"
   ]
  },
  {
   "cell_type": "markdown",
   "id": "dd921412",
   "metadata": {},
   "source": [
    "# Визуализация"
   ]
  },
  {
   "cell_type": "code",
   "execution_count": 7,
   "id": "93456471",
   "metadata": {},
   "outputs": [
    {
     "data": {
      "application/vnd.jupyter.widget-view+json": {
       "model_id": "8719a35d186146b68a49c87efe10733f",
       "version_major": 2,
       "version_minor": 0
      },
      "text/plain": [
       "interactive(children=(IntSlider(value=0, description='angle_x', max=90, min=-90, step=5), IntSlider(value=180,…"
      ]
     },
     "metadata": {},
     "output_type": "display_data"
    },
    {
     "data": {
      "text/plain": [
       "<function __main__.<lambda>(angle_x, angle_y, alpha)>"
      ]
     },
     "execution_count": 7,
     "metadata": {},
     "output_type": "execute_result"
    }
   ],
   "source": [
    "Acc = 500\n",
    "x1 = np.linspace(-5, 5, Acc)\n",
    "x2 = np.linspace(-5, 5, Acc)\n",
    "Z = np.zeros((Acc, Acc))\n",
    "Z2 = np.zeros((Acc, Acc))\n",
    "for i in range (Acc):\n",
    "    for j in range (Acc):\n",
    "        Z[i, j] = test_rust(np.array([x1[i], x2[j]]))\n",
    "        Z2[i, j] = test_styb(np.array([x1[i], x2[j]]))\n",
    "        \n",
    "def plot_3d_graph(angle_x, angle_y, alpha, x1, x2, Z, history1 = None, history2 = None):\n",
    "    fig = plt.figure(figsize=(12, 6))  # Увеличьте ширину фигуры, чтобы разместить два графика рядом\n",
    "    ax1 = fig.add_subplot(121, projection='3d')  # Создайте первую 3D-сетку\n",
    "    ax2 = fig.add_subplot(122, projection='3d')  # Создайте вторую 3D-сетку\n",
    "\n",
    "    \n",
    "\n",
    "    X1, X2 = np.meshgrid(x1, x2)\n",
    "    \n",
    "    ax1.plot_surface(X1, X2, Z, alpha=alpha, cmap='viridis')\n",
    "    if history1:\n",
    "        history1 = np.array(history1)\n",
    "        ax1.plot(history1[:, 0], history1[:, 1], history1[:, 2], '-', c='black', alpha = 1)\n",
    "        ax1.scatter3D(history1[0, 0], history1[0, 1], history1[0, 2], s=250, c=\"white\", lw=2, ec='black', marker = '.')\n",
    "        ax1.scatter3D(history1[-1, 0], history1[-1, 1], history1[-1, 2], s=250, c=\"white\", lw=2, ec='black', marker = '*')\n",
    "\n",
    "    ax2.plot_surface(X1, X2, Z2, alpha=alpha, cmap='viridis')\n",
    "    if history2:\n",
    "        history2 = np.array(history2)\n",
    "        ax2.plot(history2[:, 0], history2[:, 1], history2[:, 2], '-', c='black', alpha = 1)\n",
    "        ax2.scatter3D(history2[0, 0], history2[0, 1], history2[0, 2], s=250, c=\"white\", lw=2, ec='black', marker = '.')\n",
    "        ax2.scatter3D(history2[-1, 0], history2[-1, 1], history2[-1, 2], s=250, c=\"white\", lw=2, ec='black', marker = '*')\n",
    "    \n",
    "    ax1.view_init(elev=angle_x, azim=angle_y)\n",
    "    ax2.view_init(elev=angle_x, azim=angle_y)\n",
    "\n",
    "    plt.show()\n",
    "graph = lambda angle_x, angle_y, alpha: plot_3d_graph(angle_x, angle_y, alpha, x1 = x1, x2 = x2, Z = Z)\n",
    "# Создайте интерактивный виджет для прокрутки и вращения графика\n",
    "interact(graph, angle_x=(-90, 90, 5), angle_y=(0, 360, 5), alpha=(0, 1, 0.1)) # Отрисовка Функции Растригина"
   ]
  },
  {
   "cell_type": "markdown",
   "id": "f1bf6c53",
   "metadata": {},
   "source": [
    "# Градиентные спуски"
   ]
  },
  {
   "cell_type": "code",
   "execution_count": 8,
   "id": "dcff7b25",
   "metadata": {},
   "outputs": [],
   "source": [
    "def num_diff(\n",
    "    x: np.ndarray,\n",
    "    use_function: bool = True, \n",
    "    h: float = 1e-7,\n",
    "    **kwargs) -> np.ndarray:\n",
    "    if use_function:\n",
    "        f = kwargs['f']\n",
    "    else:\n",
    "        NotImplementedError()\n",
    "    grad = np.zeros_like(x)\n",
    "    \n",
    "    for i in range(len(x)):\n",
    "        original_value = x[i]\n",
    "        \n",
    "        # Вычисляем градиент по i-ой переменной с шагом h\n",
    "        x[i] = original_value + h\n",
    "        fx_plus_h = f(x)\n",
    "        \n",
    "        x[i] = original_value - h\n",
    "        fx_minus_h = f(x)\n",
    "        \n",
    "        grad[i] = (fx_plus_h - fx_minus_h) / (2 * h)\n",
    "        \n",
    "        # Восстанавливаем исходное значение переменной x[i]\n",
    "        x[i] = original_value\n",
    "    \n",
    "    return grad\n",
    "    "
   ]
  },
  {
   "cell_type": "code",
   "execution_count": 9,
   "id": "9a4f1fb7",
   "metadata": {},
   "outputs": [],
   "source": [
    "def my_GD(\n",
    "         x0: np.ndarray,\n",
    "         T: int = 100,\n",
    "         lr: float = 1e-3,\n",
    "         grad_type: str = 'num_diff',\n",
    "         use_crit: bool = False,\n",
    "         crit: float = 1e-6,\n",
    "         **kwargs) -> np.ndarray:    \n",
    "    if grad_type != 'input' or grad_type != 'num_diff' or grad_type != 'sym_diff':\n",
    "        grad_type = 'num_diff'\n",
    "    if grad_type == 'input':\n",
    "        df = kwargs['df']\n",
    "    elif grad_type == 'num_diff':\n",
    "        f = kwargs['f']\n",
    "        df = lambda x: num_diff(x, f = f)\n",
    "        \n",
    "    x = x0\n",
    "    lx = []\n",
    "    lx.append(np.concatenate([x, [f(x)]]))\n",
    "    if use_crit:\n",
    "        while (np.sum(np.absolute(df(x))) > crit):\n",
    "            x -= lr*df(x)\n",
    "            lx.append(np.concatenate([x, [f(x)]]))\n",
    "    else:\n",
    "        for _ in range(T):\n",
    "            x -= lr*df(x)\n",
    "            lx.append(np.concatenate([x, [f(x)]]))\n",
    "    return lx"
   ]
  },
  {
   "cell_type": "code",
   "execution_count": 10,
   "id": "712c13fd",
   "metadata": {},
   "outputs": [],
   "source": [
    "def my_MGD(\n",
    "         x0: np.ndarray,\n",
    "         T: int = 100,\n",
    "         lr: float = 1e-3,\n",
    "         grad_type: str = 'num_diff',\n",
    "         use_crit: bool = False,\n",
    "         crit: float = 1e-6,\n",
    "         beta: float = 0.5,\n",
    "         **kwargs) -> np.ndarray:    \n",
    "    if grad_type != 'input' or grad_type != 'num_diff' or grad_type != 'sym_diff':\n",
    "        grad_type = 'num_diff'\n",
    "    if grad_type == 'input':\n",
    "        df = kwargs['df']\n",
    "    elif grad_type == 'num_diff':\n",
    "        f = kwargs['f']\n",
    "        df = lambda x: num_diff(x, f = f)\n",
    "    x_prev = x0.copy()\n",
    "    x = x0.copy()    \n",
    "    lx = []\n",
    "    lx.append(np.concatenate([x, [f(x)]]))\n",
    "    if use_crit:\n",
    "        while (np.sum(np.absolute(df(x))) > crit):\n",
    "            x_new = x - lr * df(x) + beta * (x - x_prev)\n",
    "            x_prev = x\n",
    "            x = x_new\n",
    "            lx.append(np.concatenate([x, [f(x)]]))\n",
    "    else:\n",
    "        for _ in range(T):\n",
    "            x_new = x - lr * df(x) + beta * (x - x_prev)\n",
    "            x_prev = x\n",
    "            x = x_new\n",
    "            lx.append(np.concatenate([x, [f(x)]]))\n",
    "    return lx"
   ]
  },
  {
   "cell_type": "code",
   "execution_count": 11,
   "id": "c21528fc",
   "metadata": {},
   "outputs": [],
   "source": [
    "def my_ADAM(\n",
    "         x0: np.ndarray,\n",
    "         T: int = 100,\n",
    "         lr: float = 1e-3,\n",
    "         grad_type: str = 'num_diff',\n",
    "         use_crit: bool = False,\n",
    "         crit: float = 1e-6,\n",
    "         b1: float = 0.9,\n",
    "         b2: float = 0.999,\n",
    "         e: float = 1e-3,\n",
    "         **kwargs) -> np.ndarray:    \n",
    "    if grad_type != 'input' or grad_type != 'num_diff' or grad_type != 'sym_diff':\n",
    "        grad_type = 'num_diff'\n",
    "    if grad_type == 'input':\n",
    "        df = kwargs['df']\n",
    "    elif grad_type == 'num_diff':\n",
    "        f = kwargs['f']\n",
    "        df = lambda x: num_diff(x, f = f)\n",
    "\n",
    "    x = x0.copy()\n",
    "\n",
    "    # инициализация моментов\n",
    "    m = np.zeros_like(x)\n",
    "    v = np.zeros_like(x)  \n",
    "    lx = []\n",
    "    lx.append(np.concatenate([x, [f(x)]]))\n",
    "    if use_crit:\n",
    "        while (np.sum(np.absolute(df(x))) > crit):\n",
    "             # считаем моменты\n",
    "            m = b1 * m + (1 - b1) * df(x)\n",
    "            v = b2 * v + (1 - b2) * df(x) ** 2\n",
    "\n",
    "        # новое значение параметров\n",
    "            x = x - lr * m / (np.sqrt(v) + e)\n",
    "            lx.append(np.concatenate([x, [f(x)]]))\n",
    "    else:\n",
    "        for _ in range(T):\n",
    "             # считаем моменты\n",
    "            m = b1 * m + (1 - b1) * df(x)\n",
    "            v = b2 * v + (1 - b2) * df(x) ** 2\n",
    "\n",
    "            # новое значение параметров\n",
    "            x = x - lr * m / (np.sqrt(v) + e)\n",
    "            lx.append(np.concatenate([x, [f(x)]]))\n",
    "    return lx"
   ]
  },
  {
   "cell_type": "markdown",
   "id": "d9669fa8",
   "metadata": {},
   "source": [
    "# Обычный градиентный спуск"
   ]
  },
  {
   "cell_type": "code",
   "execution_count": 12,
   "id": "607d234f",
   "metadata": {},
   "outputs": [
    {
     "name": "stdout",
     "output_type": "stream",
     "text": [
      "[ 2.10159495e-09 -9.94958638e-01  9.94959057e-01]\n"
     ]
    }
   ],
   "source": [
    "xt = np.random.normal(0, 1, 2)\n",
    "h1 = my_GD(x0 = xt, use_crit = True, f = test_rust)\n",
    "print(h1[-1])"
   ]
  },
  {
   "cell_type": "code",
   "execution_count": 13,
   "id": "98559e4d",
   "metadata": {},
   "outputs": [
    {
     "name": "stdout",
     "output_type": "stream",
     "text": [
      "[  2.74680274   2.74680277 -50.05889331]\n"
     ]
    }
   ],
   "source": [
    "xt = np.random.normal(0, 1, 2)\n",
    "h2 = my_GD(x0 = xt, use_crit = True, f = test_styb)\n",
    "print(h2[-1])\n",
    "\n"
   ]
  },
  {
   "cell_type": "code",
   "execution_count": 14,
   "id": "14cd3942",
   "metadata": {},
   "outputs": [
    {
     "data": {
      "application/vnd.jupyter.widget-view+json": {
       "model_id": "17cb58954cbd46b0996c9f0ab96f4c19",
       "version_major": 2,
       "version_minor": 0
      },
      "text/plain": [
       "interactive(children=(IntSlider(value=0, description='angle_x', max=90, min=-90, step=5), IntSlider(value=180,…"
      ]
     },
     "metadata": {},
     "output_type": "display_data"
    },
    {
     "data": {
      "text/plain": [
       "<function __main__.<lambda>(angle_x, angle_y, alpha)>"
      ]
     },
     "execution_count": 14,
     "metadata": {},
     "output_type": "execute_result"
    }
   ],
   "source": [
    "graph2 = lambda angle_x, angle_y, alpha: plot_3d_graph(angle_x, angle_y, alpha, x1 = x1, x2 = x2, Z = Z, history1=h1, history2=h2)\n",
    "# Создайте интерактивный виджет для прокрутки и вращения графика\n",
    "interact(graph2, angle_x=(-90, 90, 5), angle_y=(0, 360, 5), alpha=(0, 1, 0.1)) # Отрисовка Функции Растригина"
   ]
  },
  {
   "cell_type": "markdown",
   "id": "00181129",
   "metadata": {},
   "source": [
    "# Моментная модификация"
   ]
  },
  {
   "cell_type": "code",
   "execution_count": 15,
   "id": "457b82fb",
   "metadata": {},
   "outputs": [
    {
     "name": "stdout",
     "output_type": "stream",
     "text": [
      "[ 2.10159495e-09 -9.94958638e-01  9.94959057e-01]\n"
     ]
    }
   ],
   "source": [
    "xt = np.random.normal(0, 1, 2)\n",
    "hm1 = my_MGD(x0 = xt, use_crit = True, f = test_rust)\n",
    "print(h1[-1])"
   ]
  },
  {
   "cell_type": "code",
   "execution_count": 16,
   "id": "a7758f17",
   "metadata": {},
   "outputs": [
    {
     "name": "stdout",
     "output_type": "stream",
     "text": [
      "[ -2.90353403   2.74680274 -64.19561236]\n"
     ]
    }
   ],
   "source": [
    "xt = np.random.normal(0, 1, 2)\n",
    "hm2 = my_MGD(x0 = xt, use_crit = True, f = test_styb)\n",
    "print(hm2[-1])"
   ]
  },
  {
   "cell_type": "code",
   "execution_count": 17,
   "id": "42484de6",
   "metadata": {},
   "outputs": [
    {
     "data": {
      "application/vnd.jupyter.widget-view+json": {
       "model_id": "f0256e2dcb7c4a73890bcab85353c44e",
       "version_major": 2,
       "version_minor": 0
      },
      "text/plain": [
       "interactive(children=(IntSlider(value=0, description='angle_x', max=90, min=-90, step=5), IntSlider(value=180,…"
      ]
     },
     "metadata": {},
     "output_type": "display_data"
    },
    {
     "data": {
      "text/plain": [
       "<function __main__.<lambda>(angle_x, angle_y, alpha)>"
      ]
     },
     "execution_count": 17,
     "metadata": {},
     "output_type": "execute_result"
    }
   ],
   "source": [
    "graph3 = lambda angle_x, angle_y, alpha: plot_3d_graph(angle_x, angle_y, alpha, x1 = x1, x2 = x2, Z = Z, history1=hm1, history2=hm2)\n",
    "# Создайте интерактивный виджет для прокрутки и вращения графика\n",
    "interact(graph3, angle_x=(-90, 90, 5), angle_y=(0, 360, 5), alpha=(0, 1, 0.1)) # Отрисовка Функции Растригина"
   ]
  },
  {
   "cell_type": "markdown",
   "id": "1b5cd182",
   "metadata": {},
   "source": [
    "# Адаптивная модификация"
   ]
  },
  {
   "cell_type": "code",
   "execution_count": 18,
   "id": "fa3be192",
   "metadata": {},
   "outputs": [
    {
     "name": "stdout",
     "output_type": "stream",
     "text": [
      "[5.75425118e-12 9.94958636e-01 9.94959057e-01]\n"
     ]
    }
   ],
   "source": [
    "xt = np.random.normal(0, 1, 2)\n",
    "ha1 = my_ADAM(x0 = xt, use_crit = True, f = test_rust)\n",
    "print(ha1[-1])"
   ]
  },
  {
   "cell_type": "code",
   "execution_count": 19,
   "id": "19712a78",
   "metadata": {},
   "outputs": [
    {
     "name": "stdout",
     "output_type": "stream",
     "text": [
      "[ -2.90353403  -2.903534   -78.33233141]\n"
     ]
    }
   ],
   "source": [
    "xt = np.random.normal(0, 1, 2)\n",
    "ha2 = my_ADAM(x0 = xt, use_crit = True, f = test_styb)\n",
    "print(ha2[-1])"
   ]
  },
  {
   "cell_type": "code",
   "execution_count": 20,
   "id": "2ba78675",
   "metadata": {},
   "outputs": [
    {
     "data": {
      "application/vnd.jupyter.widget-view+json": {
       "model_id": "a89ba7d634654cb0801e4a7ae4a885c1",
       "version_major": 2,
       "version_minor": 0
      },
      "text/plain": [
       "interactive(children=(IntSlider(value=0, description='angle_x', max=90, min=-90, step=5), IntSlider(value=180,…"
      ]
     },
     "metadata": {},
     "output_type": "display_data"
    },
    {
     "data": {
      "text/plain": [
       "<function __main__.<lambda>(angle_x, angle_y, alpha)>"
      ]
     },
     "execution_count": 20,
     "metadata": {},
     "output_type": "execute_result"
    }
   ],
   "source": [
    "graph4 = lambda angle_x, angle_y, alpha: plot_3d_graph(angle_x, angle_y, alpha, x1 = x1, x2 = x2, Z = Z, history1=ha1, history2=ha2)\n",
    "# Создайте интерактивный виджет для прокрутки и вращения графика\n",
    "interact(graph3, angle_x=(-90, 90, 5), angle_y=(0, 360, 5), alpha=(0, 1, 0.1)) # Отрисовка Функции Растригина"
   ]
  }
 ],
 "metadata": {
  "kernelspec": {
   "display_name": "Python 3 (ipykernel)",
   "language": "python",
   "name": "python3"
  },
  "language_info": {
   "codemirror_mode": {
    "name": "ipython",
    "version": 3
   },
   "file_extension": ".py",
   "mimetype": "text/x-python",
   "name": "python",
   "nbconvert_exporter": "python",
   "pygments_lexer": "ipython3",
   "version": "3.9.18"
  }
 },
 "nbformat": 4,
 "nbformat_minor": 5
}
